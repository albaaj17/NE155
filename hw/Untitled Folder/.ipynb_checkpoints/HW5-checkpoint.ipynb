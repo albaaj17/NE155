{
 "cells": [
  {
   "cell_type": "code",
   "execution_count": 44,
   "metadata": {
    "collapsed": false,
    "scrolled": false
   },
   "outputs": [],
   "source": [
    "## NE155 HW5 Ali (AJ) Albaaj\n",
    "# Question 1\n",
    "\n",
    "import scipy as sci\n",
    "import numpy as np\n",
    "import matplotlib.pyplot as plt\n",
    "\n",
    "# creation of matrix for any n\n",
    "n = 100\n",
    "j = 1\n",
    "A = np.zeros((n,n))\n",
    "b = np.zeros((n,1))\n",
    "A[0,0] = 2\n",
    "A[0,1] = -1\n",
    "while j < n-1:\n",
    "    A[j,j-1] = -1\n",
    "    A[j,j] = 2\n",
    "    A[j,j+1] = -1\n",
    "    b[j] = j\n",
    "    j+=1\n",
    "A[j,j-1] = -1\n",
    "A[j,j] = 2\n",
    "b[j] = j\n",
    "    \n",
    "# inverting matrix explicitly\n",
    "Aprime = np.linalg.inv(A)\n",
    "explicit = np.dot(Aprime, b)\n",
    "\n",
    "# using built in numpy\n",
    "builtin = np.linalg.solve(A,b)\n",
    "\n",
    "# plotting on same chart including labels\n",
    "x = np.arange(0,n)\n",
    "plt.plot(x, explicit, 'bs', label='inverse')\n",
    "plt.plot(x, builtin, 'r--', label='built-in')\n",
    "plt.ylabel('calculated solution values')\n",
    "plt.xlabel('x[j]')\n",
    "plt.legend()\n",
    "plt.show()"
   ]
  },
  {
   "cell_type": "code",
   "execution_count": null,
   "metadata": {
    "collapsed": true
   },
   "outputs": [],
   "source": [
    "# Question 3\n"
   ]
  }
 ],
 "metadata": {
  "kernelspec": {
   "display_name": "Python 3",
   "language": "python",
   "name": "python3"
  },
  "language_info": {
   "codemirror_mode": {
    "name": "ipython",
    "version": 3
   },
   "file_extension": ".py",
   "mimetype": "text/x-python",
   "name": "python",
   "nbconvert_exporter": "python",
   "pygments_lexer": "ipython3",
   "version": "3.5.1"
  }
 },
 "nbformat": 4,
 "nbformat_minor": 0
}
