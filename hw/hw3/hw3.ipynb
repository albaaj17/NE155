{
 "cells": [
  {
   "cell_type": "code",
   "execution_count": null,
   "metadata": {
    "collapsed": false
   },
   "outputs": [],
   "source": [
    "# Ali Albaaj HW 3 Code\n",
    "# Question 4\n",
    "\n",
    "import numpy as np\n",
    "import matplotlib.pyplot as plt\n",
    "import scipy as sci\n",
    "\n",
    "def xFunc(x):\n",
    "    return x/(np.power(np.power(x, 2) - 4, .5))\n",
    "\n",
    "def CompSimp38(a, b, n):\n",
    "    h = (b-a)/n\n",
    "    array = np.zeros([n])\n",
    "    cumAns = xFunc(a)\n",
    "    for i in np.arange(0, n, 3):\n",
    "        array[i] = a + h * i\n",
    "        cumAns = cumAns + 3 * xFunc(array[i])\n",
    "    for i in np.arange(1, n, 3):\n",
    "        array[i] =  a + h * i\n",
    "        cumAns = cumAns + 3 * xFunc(array[i])\n",
    "    for i in np.arange(2, n, 3):\n",
    "        array[i] = a + h * i\n",
    "        cumAns = cumAns + xFunc(array[i])\n",
    "    finalAns = cumAns + xFunc(b)\n",
    "    I = 3 * h * finalAns / 8\n",
    "    error = np.abs(-3/80*0.962734*np.power(h,5))\n",
    "    return error, h\n",
    "\n",
    "error = np.zeros(34)\n",
    "H = np.zeros(34)\n",
    "for i in np.arange(3, 34, 3):\n",
    "    error[i], H[i] = CompSimp38(3, 4, i)\n",
    "\n",
    "xaxis = error[3:34:3]\n",
    "yaxis = H[3:34:3]\n",
    "print(xaxis)\n",
    "print(yaxis)\n",
    "plt.loglog(xaxis, yaxis)\n",
    "plt.xlabel('h')\n",
    "plt.ylabel('error(x)')\n",
    "plt.title('Logarimthic Scale of h vs Error(x)')\n",
    "plt.show()"
   ]
  }
 ],
 "metadata": {
  "kernelspec": {
   "display_name": "Python 3",
   "language": "python",
   "name": "python3"
  },
  "language_info": {
   "codemirror_mode": {
    "name": "ipython",
    "version": 3
   },
   "file_extension": ".py",
   "mimetype": "text/x-python",
   "name": "python",
   "nbconvert_exporter": "python",
   "pygments_lexer": "ipython3",
   "version": "3.5.1"
  }
 },
 "nbformat": 4,
 "nbformat_minor": 0
}
