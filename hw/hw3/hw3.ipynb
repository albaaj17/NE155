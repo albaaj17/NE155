{
 "cells": [
  {
   "cell_type": "code",
   "execution_count": null,
   "metadata": {
    "collapsed": false
   },
   "outputs": [],
   "source": [
    "# Ali Albaaj HW 3 Code\n",
    "# Question 4\n",
    "\n",
    "import numpy as np\n",
    "import matplotlib as plt\n",
    "import scipy as sci\n",
    "\n",
    "def xFunc(x):\n",
    "    return x/(np.power(np.power(x, 2) - 4, .5))\n",
    "\n",
    "def CompSimp38(a, b, n):\n",
    "    h = (b-a)/n\n",
    "    array = np.zeros([n])\n",
    "    cumAns = xFunc(a)\n",
    "    for i in np.arange(0, n, 3):\n",
    "        array[i] = a + h * i\n",
    "        cumAns = cumAns + 3 * xFunc(array[i])\n",
    "    for i in np.arange(1, n, 3):\n",
    "        array[i] =  a + h * i\n",
    "        cumAns = cumAns + 3 * xFunc(array[i])\n",
    "    for i in np.arange(2, n, 3):\n",
    "        array[i] = a + h * i\n",
    "        cumAns = cumAns + xFunc(array[i])\n",
    "    finalAns = cumAns + xFunc(b)\n",
    "    I = 3 * h * finalAns / 8\n",
    "    return I, h\n",
    "\n",
    "final = np.zeros(3333)\n",
    "H = np.zeros(3333)\n",
    "for i in np.arange(0, 9999, 3):\n",
    "    for j in np.arange(0, 3333, 1):\n",
    "        final[j], H[j] = CompSimp38(3, 4, i)\n",
    "        \n",
    "print(final)\n",
    "print(H)\n",
    "xaxis = outputs\n",
    "yaxis = baseline\n"
   ]
  },
  {
   "cell_type": "code",
   "execution_count": null,
   "metadata": {
    "collapsed": true
   },
   "outputs": [],
   "source": []
  }
 ],
 "metadata": {
  "kernelspec": {
   "display_name": "Python 3",
   "language": "python",
   "name": "python3"
  },
  "language_info": {
   "codemirror_mode": {
    "name": "ipython",
    "version": 3
   },
   "file_extension": ".py",
   "mimetype": "text/x-python",
   "name": "python",
   "nbconvert_exporter": "python",
   "pygments_lexer": "ipython3",
   "version": "3.5.1"
  }
 },
 "nbformat": 4,
 "nbformat_minor": 0
}
