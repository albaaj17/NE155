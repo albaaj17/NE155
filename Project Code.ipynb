{
 "cells": [
  {
   "cell_type": "code",
   "execution_count": 31,
   "metadata": {
    "collapsed": false
   },
   "outputs": [],
   "source": [
    "## NE 155 Final Analysis Project\n",
    "# Ali Albaaj\n",
    "\n",
    "# reading labview data converted into csv file, pulling out the data we want\n",
    "\n",
    "import matplotlib.pyplot as plt\n",
    "import numpy as np\n",
    "import pandas as pd\n",
    "import math\n",
    "from scipy.interpolate import interp1d\n",
    "from scipy import stats\n",
    "\n",
    "pulse = pd.read_csv('pulse.csv')\n",
    "\n",
    "def readCSVColumn(dataList):\n",
    "    \n",
    "    dataList = np.asarray(dataList)\n",
    "    place = 0\n",
    "    arbitrary = 0\n",
    "    for i in range(len(dataList)):\n",
    "\n",
    "        try:\n",
    "            if i == (31 * arbitrary + 19):\n",
    "                arbitrary += 1\n",
    "                continue\n",
    "            if np.float(dataList[i]) == 24:\n",
    "                continue\n",
    "            elif np.float(dataList[i]) == 20:\n",
    "                continue\n",
    "            elif np.float(dataList[i]) == 2:\n",
    "                continue\n",
    "            elif np.float(dataList[i]) == 0.05:\n",
    "                continue\n",
    "            else:\n",
    "                dataList[place] = np.float(dataList[i])\n",
    "                place += 1\n",
    "        except:\n",
    "            continue\n",
    "\n",
    "    dataList = dataList[0:place]\n",
    "    dataList = [value for value in dataList if not math.isnan(value)]\n",
    "    dataList = np.asarray(dataList)\n",
    "    \n",
    "    return dataList\n",
    "\n",
    "inline2 = readCSVColumn(pulse['Unnamed: 2'])\n",
    "pebble3 = readCSVColumn(pulse['Unnamed: 3'])\n",
    "pebble5 = readCSVColumn(pulse['Unnamed: 5'])\n",
    "pebble8 = readCSVColumn(pulse['Unnamed: 8'])\n",
    "inline11 = readCSVColumn(pulse['Unnamed: 11'])"
   ]
  },
  {
   "cell_type": "code",
   "execution_count": 32,
   "metadata": {
    "collapsed": false
   },
   "outputs": [],
   "source": [
    "import numpy as np\n",
    "import matplotlib.pyplot as plt\n",
    "import lvm_read\n",
    "\n",
    "# Differentiation Coding\n",
    "\n",
    "\n",
    "def TemperatureDiff(tempVector, timeVector, method, order):\n",
    "    \n",
    "    length = len(tempVector)\n",
    "    h = timeVector[1] - timeVector[0]\n",
    "    diffVector = np.zeros(len(tempVector))\n",
    "    i=1\n",
    "    \n",
    "    if method == 'center':\n",
    "        if order == 2:\n",
    "            \n",
    "            while i < length-1:\n",
    "                diffVector[i] = ((tempVector[i+1] - tempVector[i-1]) / (2*h))\n",
    "                i += 1\n",
    "        \n",
    "        elif order == 4:\n",
    "            \n",
    "            i = 2\n",
    "            while i < length-2:\n",
    "                diffVector[i] = (tempVector[i-2] - 8*tempVector[i-1] + 8*tempVector[i+1] \n",
    "                                - tempVector[i+2]) / (2*h)\n",
    "                i += 1\n",
    "                \n",
    "        else:\n",
    "            return print('choose integer 2 or 4')\n",
    "            \n",
    "    elif method == 'forward':\n",
    "        if order == 1:\n",
    "            \n",
    "            while i < length-1:\n",
    "                diffVector[i] = ((tempVector[i+1] - tempVector[i]) / (2*h))\n",
    "                i += 1\n",
    "        \n",
    "        elif order == 2:\n",
    "            \n",
    "            while i < length-2:\n",
    "                diffVector[i] = (-3*tempVector[i] + 4*tempVector[i+1] - tempVector[i+1]) / (2*h)\n",
    "                i += 1\n",
    "                \n",
    "        else:\n",
    "            return print('choose integer 1 or 2')      \n",
    "        \n",
    "    elif method == 'backward':\n",
    "        if order == 1:\n",
    "            \n",
    "            while i < length-1:\n",
    "                diffVector[i] = ((tempVector[i] - tempVector[i-1]) / (2*h))\n",
    "                i += 1\n",
    "                \n",
    "        elif order == 2:\n",
    "            \n",
    "            while i < length-2:\n",
    "                diffVector[i] = (3*tempVector[i] - 4*tempVector[i-1] + tempVector[i-2]) / (2*h)\n",
    "                i += 1\n",
    "        else:\n",
    "            return print('choose integer 1 or 2')\n",
    "        \n",
    "    else:\n",
    "        return print('function method not defined. Please choose \"center\", \"forward\", or \"backward\"')\n",
    "    \n",
    "    return diffVector\n",
    "\n"
   ]
  },
  {
   "cell_type": "code",
   "execution_count": 33,
   "metadata": {
    "collapsed": false,
    "scrolled": true
   },
   "outputs": [],
   "source": [
    "# Interpolating code\n",
    "import operator\n",
    "\n",
    "def FindPoly(xData, yData):\n",
    "    \n",
    "    xarray = np.zeros((len(xData), len(xData)))\n",
    "    \n",
    "    for i in range(len(xData)):\n",
    "        m = 0\n",
    "        for m in range(len(yData)):\n",
    "            xarray[i,m] = np.power(xData[i], len(xData)-m)\n",
    "            m +=1  \n",
    "    poly = np.dot(np.linalg.inv(xarray), yData)\n",
    "    poly = poly.T\n",
    "    return poly\n",
    "\n",
    "def PolyVal(coefficients, xData):\n",
    "    \n",
    "    n = len(coefficients)\n",
    "    yEvaluated = np.copy(xData)\n",
    "    \n",
    "    for h in range(len(xData)):\n",
    "        equation = 0\n",
    "        \n",
    "        for i in range(n):\n",
    "            equation = coefficients[i] * np.power(xData[h], n-i) + equation\n",
    "        yEvaluated[h] = equation\n",
    "    \n",
    "    return yEvaluated\n",
    "\n",
    "\n",
    "# code verification\n",
    "xPt = np.array([-2, 1, -4, 5, 2])\n",
    "yPt = np.array([2, 2.7, -7, 1, 2])\n",
    "x = np.arange(-4, 5, 0.1)\n",
    "poly = FindPoly(xPt, yPt)\n",
    "x = np.arange(-4, 5, 0.1)\n",
    "y = PolyVal(poly, x)\n",
    "cubic = interp1d(xPt, yPt, 'cubic')\n",
    "\n",
    "plt.plot(x, y, 'b', label='Custom Polynomial Interpolation')\n",
    "plt.plot(xPt, yPt, 'o')\n",
    "plt.plot(x, cubic(x), 'r', label='Cubic Spline Interpolation')\n",
    "plt.title('Comparison of interpolation codes')\n",
    "plt.legend(loc='lower left')\n",
    "plt.show()"
   ]
  },
  {
   "cell_type": "code",
   "execution_count": 34,
   "metadata": {
    "collapsed": false
   },
   "outputs": [],
   "source": [
    "## Graphing temperatures\n",
    "\n",
    "time = np.arange(44320) * 0.05\n",
    "plt.plot(time, inline2, 'r', label='inline2')\n",
    "plt.plot(time, inline11, 'g', label='inline11')\n",
    "plt.plot(time, pebble3, 'y', label='pebble3')\n",
    "plt.plot(time, pebble5, 'b', label='pebble5')\n",
    "plt.plot(time, pebble8, 'k', label='pebble8')\n",
    "plt.legend(loc='upper left')\n",
    "plt.xlabel('time(s)')\n",
    "plt.ylabel('temperature (C)')\n",
    "plt.title('Fluid bulk and pebble core temperature (pulse test)')\n",
    "plt.show()"
   ]
  },
  {
   "cell_type": "code",
   "execution_count": 35,
   "metadata": {
    "collapsed": true
   },
   "outputs": [],
   "source": [
    "# pebble temperatures\n",
    "\n",
    "plt.plot(time, pebble3, 'y', label='pebble3')\n",
    "plt.plot(time, pebble5, 'b', label='pebble5')\n",
    "plt.plot(time, pebble8, 'r', label='pebble8')\n",
    "plt.legend(loc='upper left')\n",
    "plt.xlabel('time(s)')\n",
    "plt.ylabel('temperature (C)')\n",
    "plt.title('pebble core temperature (pulse test)')\n",
    "plt.show()"
   ]
  },
  {
   "cell_type": "code",
   "execution_count": 36,
   "metadata": {
    "collapsed": false
   },
   "outputs": [],
   "source": [
    "# plotting temperature and derivative, accuracy 2\n",
    "\n",
    "pebble5Diff = TemperatureDiff(pebble5, x, 'center', 2)\n",
    "inline11Diff = TemperatureDiff(inline11, x, 'center', 2)\n",
    "plt.plot(time, pebble5, 'r', label='pebble temperature')\n",
    "plt.plot(time, pebble5Diff, 'g', label='pebble derivative')\n",
    "plt.xlabel('time(s)')\n",
    "plt.ylabel('temperature(C)')\n",
    "plt.legend(loc='upper left')\n",
    "plt.title('pebble core temperature vs time pulse')\n",
    "plt.show()"
   ]
  },
  {
   "cell_type": "code",
   "execution_count": 37,
   "metadata": {
    "collapsed": true
   },
   "outputs": [],
   "source": [
    "# plotting temperature vs derivative, accuracy 4\n",
    "\n",
    "plt.plot(time, pebble3, 'r', label='pebble core temperature')\n",
    "plt.plot(time, tempDer2, 'g', label='pebble core derivative')\n",
    "plt.legend(loc='upper left')\n",
    "plt.xlabel('time(s)')\n",
    "plt.ylabel('temperature(C)')\n",
    "plt.title('pebble temperature vs pebble core derivative')\n",
    "plt.show()"
   ]
  },
  {
   "cell_type": "code",
   "execution_count": 38,
   "metadata": {
    "collapsed": false
   },
   "outputs": [
    {
     "name": "stdout",
     "output_type": "stream",
     "text": [
      "0.960046451236\n"
     ]
    }
   ],
   "source": [
    "# determining the heat transfer coefficient, acccuracy 2\n",
    "\n",
    "Cp = 0.39\n",
    "row = 8960\n",
    "minusEpsilon = .52\n",
    "Av = 567\n",
    "tempDer = TemperatureDiff(pebble3, time, 'center', 2)\n",
    "tempDer2 = TemperatureDiff(pebble3, time, 'center', 4)\n",
    "deltaT = pebble3 - inline2\n",
    "h = np.zeros(len(time))\n",
    "for i in range(len(time)):\n",
    "    h[i] = ((Cp*row*minusEpsilon)/Av) * abs(tempDer[i]/deltaT[i])\n",
    "\n",
    "# removing outliers to give more clear graphs\n",
    "\n",
    "h=np.delete(h, [29847, 29848, 29859])\n",
    "print(np.median(h))\n",
    "plt.plot(np.delete(time,[29847, 29848, 29859]), h, 'b', label='heat transfer coefficient')\n",
    "plt.plot(time, pebble3, 'r', label='pebble core temperature')\n",
    "plt.plot(time, inline2, 'g', label='bulk fluid temperature')\n",
    "plt.legend(loc='upper left')\n",
    "plt.xlabel('time(s)')\n",
    "plt.ylabel('temperature(C)')\n",
    "plt.title('Heat transfer coefficient vs pebble and bulk temperature')\n",
    "plt.show()"
   ]
  },
  {
   "cell_type": "code",
   "execution_count": 39,
   "metadata": {
    "collapsed": false
   },
   "outputs": [
    {
     "name": "stdout",
     "output_type": "stream",
     "text": [
      "7.70197564128\n"
     ]
    }
   ],
   "source": [
    "# determining the heat transfer coefficient, accuracy 4\n",
    "\n",
    "h = np.zeros(len(time))\n",
    "for i in range(len(time)):\n",
    "    h[i] = ((Cp*row*minusEpsilon)/Av) * abs(tempDer2[i]/deltaT[i])\n",
    "\n",
    "# removing outliers to give more clear graphs\n",
    "\n",
    "h=np.delete(h, [29847, 29848, 29859])\n",
    "print(np.median(h))\n",
    "plt.plot(np.delete(time,[29847, 29848, 29859]), h, 'b', label='heat transfer coefficient')\n",
    "plt.plot(time, pebble3, 'r', label='pebble core temperature')\n",
    "plt.plot(time, inline2, 'g', label='bulk fluid temperature')\n",
    "plt.legend(loc='upper left')\n",
    "plt.xlabel('time(s)')\n",
    "plt.ylabel('temperature(C)')\n",
    "plt.title('Heat transfer coefficient vs pebble and bulk temperature')\n",
    "plt.show()"
   ]
  },
  {
   "cell_type": "code",
   "execution_count": 40,
   "metadata": {
    "collapsed": true
   },
   "outputs": [],
   "source": [
    "# cubic spline interpolation of limited data\n",
    "\n",
    "xSpaced = time[0:44320:150]\n",
    "newX = np.arange(4425) * 0.5\n",
    "pebble5Spaced = pebble5[0:44320:150]\n",
    "cubicPebble5 = interp1d(xSpaced, pebble5Spaced)\n",
    "plt.plot(xSpaced, pebble5Spaced, 'o')\n",
    "plt.plot(newX, cubicPebble5(newX), 'b', label='cubic spline interp')\n",
    "plt.plot(time, pebble5, 'r', label='actual data')\n",
    "plt.xlabel('time(s)')\n",
    "plt.ylabel('temperature(C)')\n",
    "plt.legend(loc='upper left')\n",
    "plt.title('Spline with less data vs actual data')\n",
    "plt.show()"
   ]
  },
  {
   "cell_type": "code",
   "execution_count": null,
   "metadata": {
    "collapsed": true
   },
   "outputs": [],
   "source": []
  }
 ],
 "metadata": {
  "kernelspec": {
   "display_name": "Python 3",
   "language": "python",
   "name": "python3"
  },
  "language_info": {
   "codemirror_mode": {
    "name": "ipython",
    "version": 3
   },
   "file_extension": ".py",
   "mimetype": "text/x-python",
   "name": "python",
   "nbconvert_exporter": "python",
   "pygments_lexer": "ipython3",
   "version": "3.5.1"
  }
 },
 "nbformat": 4,
 "nbformat_minor": 0
}
